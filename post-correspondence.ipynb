{
 "cells": [
  {
   "cell_type": "markdown",
   "metadata": {},
   "source": [
    "Pantaree Somcharoen (G00365378)"
   ]
  },
  {
   "cell_type": "markdown",
   "metadata": {},
   "source": [
    "# Post Correspondence Problem Notebook\n",
    "***"
   ]
  },
  {
   "cell_type": "markdown",
   "metadata": {},
   "source": [
    "### What is a Post correspondence problem?"
   ]
  },
  {
   "cell_type": "markdown",
   "metadata": {},
   "source": [
    "[Post Correspondence Problem](https://www.geeksforgeeks.org/post-correspondence-problem/) is a popular undecidable problem that was introduced by Emil Leon Post in 1946.[[1]](https://www.geeksforgeeks.org/post-correspondence-problem/) <br>"
   ]
  },
  {
   "cell_type": "markdown",
   "metadata": {},
   "source": [
    "### PCP Problem"
   ]
  },
  {
   "cell_type": "markdown",
   "metadata": {},
   "source": [
    "Given two lists of words, determine whether there is a sequence in which the concatenation of the words in this order generates the same word in both lists.\n",
    "[[2]](https://www.interviewbit.com/blog/post-correspondence-problem/) <br> "
   ]
  },
  {
   "cell_type": "code",
   "execution_count": 371,
   "metadata": {},
   "outputs": [],
   "source": [
    "l1 = ['b', 'a', 'aba', 'bb']\n",
    "l2 = ['ba', 'ba', 'ab', 'b']"
   ]
  },
  {
   "cell_type": "markdown",
   "metadata": {},
   "source": [
    "By following the sequence below, the String that will be created in both cases will be <b>\"bababaababb\"</b>."
   ]
  },
  {
   "cell_type": "code",
   "execution_count": 372,
   "metadata": {},
   "outputs": [],
   "source": [
    "# A solution from the two lists\n",
    "S = (0, 1, 0, 2, 2, 3) "
   ]
  },
  {
   "cell_type": "code",
   "execution_count": 373,
   "metadata": {},
   "outputs": [],
   "source": [
    "# Apply the proposed solution to each list.\n",
    "def apply(S, L):\n",
    "    S_on_L = [''.join(L[i]) for i in S]\n",
    "    return ''.join(S_on_L)"
   ]
  },
  {
   "cell_type": "code",
   "execution_count": 374,
   "metadata": {},
   "outputs": [
    {
     "data": {
      "text/plain": [
       "'bababaababb'"
      ]
     },
     "execution_count": 374,
     "metadata": {},
     "output_type": "execute_result"
    }
   ],
   "source": [
    "# Apply sequence to first list.\n",
    "apply(S, l1)"
   ]
  },
  {
   "cell_type": "code",
   "execution_count": 375,
   "metadata": {},
   "outputs": [
    {
     "data": {
      "text/plain": [
       "'bababaababb'"
      ]
     },
     "execution_count": 375,
     "metadata": {},
     "output_type": "execute_result"
    }
   ],
   "source": [
    "# Apply sequence to second list.\n",
    "apply(S, l2)"
   ]
  },
  {
   "cell_type": "markdown",
   "metadata": {},
   "source": [
    "Comapring these two lists if the two lists actually corresponds."
   ]
  },
  {
   "cell_type": "code",
   "execution_count": 376,
   "metadata": {},
   "outputs": [
    {
     "data": {
      "text/plain": [
       "True"
      ]
     },
     "execution_count": 376,
     "metadata": {},
     "output_type": "execute_result"
    }
   ],
   "source": [
    "apply(S, l1) == apply(S, l2)"
   ]
  },
  {
   "cell_type": "markdown",
   "metadata": {},
   "source": [
    "#### Ways of representing The Post Correspondence Problem"
   ]
  },
  {
   "cell_type": "markdown",
   "metadata": {},
   "source": [
    "PCP can be represented in two forms:"
   ]
  },
  {
   "cell_type": "markdown",
   "metadata": {},
   "source": [
    "1st list to act as the numerator, and the 2nd list to act as the denominator[[2]](https://www.interviewbit.com/blog/post-correspondence-problem/)"
   ]
  },
  {
   "cell_type": "markdown",
   "metadata": {},
   "source": [
    ">Domino Form"
   ]
  },
  {
   "cell_type": "markdown",
   "metadata": {},
   "source": [
    "<img src=\"https://www.interviewbit.com/blog/wp-content/uploads/2021/11/image3-1.png\" width=500 height=500 />"
   ]
  },
  {
   "cell_type": "markdown",
   "metadata": {},
   "source": [
    ">Table Form "
   ]
  },
  {
   "cell_type": "markdown",
   "metadata": {},
   "source": [
    "<img src=\"https://www.interviewbit.com/blog/wp-content/uploads/2021/11/image2-1-800x198.png\" width=500 height=500 />"
   ]
  },
  {
   "cell_type": "markdown",
   "metadata": {},
   "source": [
    "## Bounded Post Correspondence Problem\n",
    "***"
   ]
  },
  {
   "cell_type": "markdown",
   "metadata": {},
   "source": [
    "### What is a Bounded Post correspondence problem?"
   ]
  },
  {
   "cell_type": "markdown",
   "metadata": {},
   "source": [
    "<b>Bounded Post correspondence problem</b> is one of Post correspondence problem variants, which asks if we can find a match using no more than k tiles, including repeated tiles. A brute force search solves the problem in time O(2k), however because the problem is NP-complete, this may be difficult to improve.[[3]](https://en.wikipedia.org/wiki/Post_correspondence_problem)"
   ]
  },
  {
   "cell_type": "markdown",
   "metadata": {},
   "source": [
    "$ |S| \\leq K \\qquad K \\in \\mathbb{N} $"
   ]
  },
  {
   "cell_type": "markdown",
   "metadata": {},
   "source": [
    "<img src=\"https://slideplayer.com/slide/5086310/16/images/18/Definition+of+NP-complete.jpg\" width=500 height=500 />\n"
   ]
  },
  {
   "cell_type": "markdown",
   "metadata": {},
   "source": [
    "### Solving The Bounded Post Correspondence Problem\n",
    "***"
   ]
  },
  {
   "cell_type": "markdown",
   "metadata": {},
   "source": [
    "The following code show the function\n",
    "taht take two lists of strings and return True if they correspond, False otherwise"
   ]
  },
  {
   "cell_type": "markdown",
   "metadata": {},
   "source": [
    "#### Itertools [[4]](https://github.com/ianmcloughlin/post_correspondence/blob/main/post_correspondence.ipynb)"
   ]
  },
  {
   "cell_type": "markdown",
   "metadata": {},
   "source": [
    "<b>Python’s Itertool</b> is a module that provides various functions that work on iterators to produce complex iterators. [[5]](https://www.geeksforgeeks.org/python-itertools/)"
   ]
  },
  {
   "cell_type": "code",
   "execution_count": 410,
   "metadata": {},
   "outputs": [],
   "source": [
    "# A very useful module in the Python standard library.\n",
    "from itertools import product"
   ]
  },
  {
   "cell_type": "code",
   "execution_count": 411,
   "metadata": {},
   "outputs": [],
   "source": [
    "L1 = ['a', 'ab', 'bba']\n",
    "L2 = ['baa', 'aa', 'bb']\n",
    "L3 = ['aa', 'bb', 'abb']\n",
    "L4 = ['aab', 'ba', 'b']"
   ]
  },
  {
   "cell_type": "markdown",
   "metadata": {},
   "source": [
    "The <b>Cartesian Products </b> of two sets, $ X $ and $ Y $ , denoted by $ X \\times Y$, is the set of all ordered pairs $(x , y)$ , where $x$ is an element of $X$ and $y$ is an element of $Y$  [[6]](https://www.sciencedirect.com/topics/computer-science/cartesian-product):"
   ]
  },
  {
   "cell_type": "markdown",
   "metadata": {},
   "source": [
    "$ X \\times Y = \\{(x,y) \\mid x \\in X ∧ y \\in Y\\}$"
   ]
  },
  {
   "cell_type": "code",
   "execution_count": 412,
   "metadata": {},
   "outputs": [],
   "source": [
    "# Finding the cartesian product of the list\n",
    "def cartesian_product(L, K):\n",
    "    L1 = []\n",
    "    for i in range(1, K+1): # Add 1 to k as range goes up to the second paramater\n",
    "        for roll in product(L, repeat = i):\n",
    "            concat=''.join(roll)\n",
    "            L1.append(concat)\n",
    "    return L1"
   ]
  },
  {
   "cell_type": "markdown",
   "metadata": {},
   "source": [
    "Python <b>zip</b> function enables us to iterate over two or more lists by running until the smaller list gets exhausted. [[7]](https://www.delftstack.com/howto/python/iterate-two-lists-in-python/)"
   ]
  },
  {
   "cell_type": "code",
   "execution_count": 413,
   "metadata": {},
   "outputs": [],
   "source": [
    "# Correspond needs to state whether a solution S of max length K exists.\n",
    "def correspond(L1, L2, K):\n",
    "    # Check if two lists have the same length\n",
    "    if len(L1) != len(L2):\n",
    "        return False \n",
    "     # Iterates over the cartesian product of both lists in parallel using zip method\n",
    "    for list1, list2 in zip(cartesian_product(L1,K), cartesian_product(L2,K)):\n",
    "        # If 2 lists concatenate return True\n",
    "            if list1 == list2:\n",
    "                print(\"{} = {}\".format(list1, list2))\n",
    "                print(\"Solution of max length {} found\".format(K))\n",
    "                return True\n",
    "        # Otherwise return false\n",
    "    print(\"No Solution of max length {} found\".format(K))\n",
    "    return False"
   ]
  },
  {
   "cell_type": "code",
   "execution_count": 414,
   "metadata": {},
   "outputs": [],
   "source": [
    "# Write a solver for the bounded version.\n",
    "def bpcp_solver(L1, L2, K):\n",
    "    if correspond(L1, L2, K):\n",
    "        return True\n",
    "    else:\n",
    "        return False"
   ]
  },
  {
   "cell_type": "markdown",
   "metadata": {},
   "source": [
    "#### Test\n",
    "***"
   ]
  },
  {
   "cell_type": "code",
   "execution_count": 415,
   "metadata": {},
   "outputs": [
    {
     "name": "stdout",
     "output_type": "stream",
     "text": [
      "bbaabbbaa = bbaabbbaa\n",
      "Solution of max length 4 found\n",
      "True\n"
     ]
    }
   ],
   "source": [
    "print(bpcp_solver(L1, L2, 4))"
   ]
  },
  {
   "cell_type": "code",
   "execution_count": 416,
   "metadata": {},
   "outputs": [
    {
     "name": "stdout",
     "output_type": "stream",
     "text": [
      "aabbaaabb = aabbaaabb\n",
      "Solution of max length 4 found\n",
      "True\n"
     ]
    }
   ],
   "source": [
    "print(bpcp_solver(L3, L4, 4))"
   ]
  },
  {
   "cell_type": "markdown",
   "metadata": {},
   "source": [
    "As seen above L1, L2 and L3, L4 with a solution of max length 4 are correspondence, but when the max length is changed like below are not correspondence:"
   ]
  },
  {
   "cell_type": "code",
   "execution_count": 417,
   "metadata": {},
   "outputs": [
    {
     "name": "stdout",
     "output_type": "stream",
     "text": [
      "No Solution of max length 3 found\n"
     ]
    },
    {
     "data": {
      "text/plain": [
       "False"
      ]
     },
     "execution_count": 417,
     "metadata": {},
     "output_type": "execute_result"
    }
   ],
   "source": [
    "bpcp_solver(L1, L2, 3)"
   ]
  },
  {
   "cell_type": "code",
   "execution_count": 418,
   "metadata": {},
   "outputs": [
    {
     "name": "stdout",
     "output_type": "stream",
     "text": [
      "No Solution of max length 3 found\n",
      "False\n"
     ]
    }
   ],
   "source": [
    "print(bpcp_solver(L3, L4, 3))"
   ]
  },
  {
   "cell_type": "markdown",
   "metadata": {},
   "source": [
    "## what is an undecidable problem?\n",
    "***"
   ]
  },
  {
   "cell_type": "markdown",
   "metadata": {},
   "source": [
    "The problem of which cannot be solved by constructing an algorithm that will give a \"yes\" or \"no\" answer, yet no algorithm exists that can answer correctly on all inputs.[[8]](https://www.khanacademy.org/computing/ap-computer-science-principles/algorithms-101/solving-hard-problems/a/undecidable-problems)"
   ]
  },
  {
   "cell_type": "markdown",
   "metadata": {},
   "source": [
    "<b>The Post Correspondence Problem </b> is an undecidable problem for the reason that no particular algorithm that determines whether any Post Correspondence System has a solution $ S $ or not."
   ]
  },
  {
   "cell_type": "markdown",
   "metadata": {},
   "source": [
    "A brute force approach can be used to solve the Post correspondence problem, which works only if the solution $S$, or the number of dominos, is limited. However, the PCP allows us to use each domino as many times as we like, resulting in an endless number of potential configurations. As a result, the problem is undecidable. [[9]](https://cs.stackexchange.com/questions/108550/how-post-correspondence-problem-is-undecidable)"
   ]
  },
  {
   "cell_type": "markdown",
   "metadata": {},
   "source": [
    "\n",
    "## References\n",
    "***"
   ]
  },
  {
   "cell_type": "markdown",
   "metadata": {},
   "source": [
    "[[1]](https://www.geeksforgeeks.org/post-correspondence-problem/) Post Correspondence Problem - GeeksforGeeks<br>\n",
    "[[2]](https://www.interviewbit.com/blog/post-correspondence-problem/) Post Correspondence Problem - InterviewBit <br>\n",
    "[[3]](https://en.wikipedia.org/wiki/Post_correspondence_problem) Post Correspondence Problem - Wikipedia  <br>\n",
    "[[4]](https://github.com/ianmcloughlin/post_correspondence/blob/main/post_correspondence.ipynb) post_correspondence GitHub - Dr Ian McLoughlin <br> \n",
    "[[5]](https://www.geeksforgeeks.org/python-itertools/) Python Itertools - GeeksforGeeks<br>\n",
    "[[6]](https://www.sciencedirect.com/topics/computer-science/cartesian-product) \n",
    "B. Dwyer, ‘Chapter 2 - Mathematical background’, στο Systems Analysis and Synthesis, B. Dwyer, Επιμ. Boston: Morgan Kaufmann, 2016, σσ. 23–78.<br>\n",
    "[[7]](https://www.delftstack.com/howto/python/iterate-two-lists-in-python/) Iterate Over Two Lists in Python<br>\n",
    "[[8]](https://www.khanacademy.org/computing/ap-computer-science-principles/algorithms-101/solving-hard-problems/a/undecidable-problems) Undecidable problems by Pamela Fox.<br>\n",
    "[[9]](https://cs.stackexchange.com/questions/108550/how-post-correspondence-problem-is-undecidable) How post correspondence problem is undecidable?\n",
    "\n",
    "\n",
    "\n"
   ]
  },
  {
   "cell_type": "markdown",
   "metadata": {},
   "source": [
    "***\n",
    "# End"
   ]
  }
 ],
 "metadata": {
  "kernelspec": {
   "display_name": "Python 3",
   "language": "python",
   "name": "python3"
  },
  "language_info": {
   "codemirror_mode": {
    "name": "ipython",
    "version": 3
   },
   "file_extension": ".py",
   "mimetype": "text/x-python",
   "name": "python",
   "nbconvert_exporter": "python",
   "pygments_lexer": "ipython3",
   "version": "3.8.5"
  }
 },
 "nbformat": 4,
 "nbformat_minor": 4
}
